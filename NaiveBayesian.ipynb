{
 "cells": [
  {
   "cell_type": "code",
   "execution_count": 1,
   "metadata": {},
   "outputs": [],
   "source": [
    "import numpy as np\n",
    "import matplotlib.pyplot as plt"
   ]
  },
  {
   "cell_type": "code",
   "execution_count": 2,
   "metadata": {},
   "outputs": [
    {
     "data": {
      "text/plain": [
       "([(['win', 'money', 'now'], 'spam'),\n",
       "  (['earn', 'money', 'from', 'home'], 'spam'),\n",
       "  (['meeting', 'at', 'work'], 'not spam'),\n",
       "  (['urgent', 'money', 'transfer'], 'spam'),\n",
       "  (['see', 'you', 'at', 'the', 'meeting'], 'not spam'),\n",
       "  (['i',\n",
       "    'can',\n",
       "    'help',\n",
       "    'you',\n",
       "    'make',\n",
       "    'a',\n",
       "    'lot',\n",
       "    'of',\n",
       "    'money',\n",
       "    'in',\n",
       "    'very',\n",
       "    'little',\n",
       "    'time'],\n",
       "   'spam'),\n",
       "  (['can', 'you', 'please', 'submit', 'the', 'report', 'asap'], 'not spam'),\n",
       "  (['need', 'your', 'help'], 'not spam'),\n",
       "  (['you', 'won', 'a', 'lottery'], 'spam')],\n",
       " {'spam': 0.5555555555555556, 'not spam': 0.4444444444444444})"
      ]
     },
     "execution_count": 2,
     "metadata": {},
     "output_type": "execute_result"
    }
   ],
   "source": [
    "# Sample dataset: list of messages and their labels (spam or not spam)\n",
    "dataset = [\n",
    "    {\"message\": \"win money now\", \"label\": \"spam\"},\n",
    "    {\"message\": \"earn money from home\", \"label\": \"spam\"},\n",
    "    {\"message\": \"meeting at work\", \"label\": \"not spam\"},\n",
    "    {\"message\": \"urgent money transfer\", \"label\": \"spam\"},\n",
    "    {\"message\": \"see you at the meeting\", \"label\": \"not spam\"},\n",
    "    {\"message\": \"I can help you make a lot of money in very little time\", \"label\": \"spam\"},\n",
    "    {\"message\": \"Can you please submit the report asap\", \"label\": \"not spam\"},\n",
    "    {\"message\": \"Need your help\", \"label\": \"not spam\"},\n",
    "    {\"message\": \"You won a lottery\", \"label\": \"spam\"}\n",
    "\n",
    "\n",
    "]\n",
    "\n",
    "# Step 1: Tokenize messages\n",
    "def tokenize(message):\n",
    "    \"\"\"Simple tokenizer that splits message into words.\"\"\"\n",
    "    return message.lower().split()\n",
    "\n",
    "# Step 2: Calculate Priors\n",
    "def calculate_priors(dataset):\n",
    "    \"\"\"Calculates the prior probability of each class (spam or not spam).\"\"\"\n",
    "    total_messages = len(dataset)\n",
    "    spam_messages = sum(1 for data in dataset if data[\"label\"] == \"spam\")\n",
    "\n",
    "    not_spam_messages = total_messages - spam_messages\n",
    "    return {\n",
    "        \"spam\": spam_messages / total_messages,\n",
    "        \"not spam\": not_spam_messages / total_messages\n",
    "    }\n",
    "\n",
    "# Tokenize messages and calculate priors\n",
    "tokenized_messages = [(tokenize(data[\"message\"]), data[\"label\"]) for data in dataset]\n",
    "priors = calculate_priors(dataset)\n",
    "\n",
    "# Display tokenized messages and priors for reference\n",
    "tokenized_messages, priors\n"
   ]
  },
  {
   "cell_type": "code",
   "execution_count": 3,
   "metadata": {},
   "outputs": [],
   "source": [
    "allspam = []\n",
    "allnotspam = []\n",
    "for i in tokenized_messages:\n",
    "    if(i[1]==\"spam\"):\n",
    "        for j in i[0]:\n",
    "            allspam.append(j)\n",
    "    if(i[1]==\"not spam\"):\n",
    "        for j in i[0]:\n",
    "            allnotspam.append(j)\n",
    "\n",
    "def createdict(wordarr):\n",
    "    word_dict = {}\n",
    "    for i in wordarr:\n",
    "        if i in word_dict.keys():\n",
    "            word_dict[i] += 1\n",
    "        else:\n",
    "            word_dict[i] = 1\n",
    "    return word_dict\n",
    "\n",
    "work_dict_spam = createdict(allspam)\n",
    "work_dict_notspam = createdict(allnotspam)\n",
    "\n",
    "prob_spam = {k: v / len(allspam) for k, v in work_dict_spam.items()}\n",
    "prob_not_spam = {k:  v / len(allnotspam) for k, v in work_dict_notspam.items()}\n",
    "def posterior(x,prob,prior):\n",
    "    if x in prob.keys():\n",
    "        return prob[x]*prior \n",
    "    else :\n",
    "        return 0.001           "
   ]
  },
  {
   "cell_type": "code",
   "execution_count": 4,
   "metadata": {},
   "outputs": [],
   "source": [
    "def check(test,prob_spam,prob_not_spam):\n",
    "    test_arr = tokenize(test)\n",
    "    spam_ = []\n",
    "    notspam = []\n",
    "    for i in test_arr: \n",
    "        spam_.append(posterior(i,prob_spam,0.6))\n",
    "        notspam.append(posterior(i,prob_not_spam,0.4))\n",
    "\n",
    "    spam_np = np.array(spam_)\n",
    "    notspam_np = np.array(notspam)\n",
    "\n",
    "    if(np.sum(np.log(spam_np))>np.sum(np.log(notspam_np))):\n",
    "        predicted = \"spam\"\n",
    "        print(\"Spam: \" + test)\n",
    "    else:\n",
    "        print(\"Not spam: \" + test)\n",
    "        predicted = \"not spam\"\n",
    "    return predicted"
   ]
  },
  {
   "cell_type": "code",
   "execution_count": 5,
   "metadata": {},
   "outputs": [
    {
     "name": "stdout",
     "output_type": "stream",
     "text": [
      "Not spam: we have a meeting with John and Stuart\n",
      "Spam: win a cash prize\n",
      "Spam: earn money fast\n",
      "Not spam: see you at lunch\n",
      "Spam: I have some very important information for you\n",
      "My models accuracy is 80.00\n"
     ]
    }
   ],
   "source": [
    "test_set = [\n",
    "    {\"message\": \"we have a meeting with John and Stuart\", \"label\": \"not spam\"},\n",
    "    {\"message\": \"win a cash prize\", \"label\": \"spam\"},\n",
    "    {\"message\": \"earn money fast\", \"label\": \"spam\"},\n",
    "    {\"message\": \"see you at lunch\", \"label\": \"not spam\"},\n",
    "    {\"message\": \"I have some very important information for you\", \"label\": \"not spam\"}\n",
    "]\n",
    "accuracy = 0\n",
    "for test in test_set:\n",
    "    predicted = check(test['message'],prob_spam,prob_not_spam)\n",
    "    if(predicted==test[\"label\"]):\n",
    "        accuracy+=1  \n",
    "print(\"My models accuracy is {acc:.2f}\".format(acc = accuracy/5*100))"
   ]
  },
  {
   "cell_type": "code",
   "execution_count": null,
   "metadata": {},
   "outputs": [],
   "source": []
  }
 ],
 "metadata": {
  "kernelspec": {
   "display_name": "Python 3",
   "language": "python",
   "name": "python3"
  },
  "language_info": {
   "codemirror_mode": {
    "name": "ipython",
    "version": 3
   },
   "file_extension": ".py",
   "mimetype": "text/x-python",
   "name": "python",
   "nbconvert_exporter": "python",
   "pygments_lexer": "ipython3",
   "version": "3.12.2"
  }
 },
 "nbformat": 4,
 "nbformat_minor": 2
}
