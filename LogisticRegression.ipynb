{
 "cells": [
  {
   "cell_type": "code",
   "execution_count": 1,
   "metadata": {},
   "outputs": [],
   "source": [
    "import numpy as np"
   ]
  },
  {
   "cell_type": "code",
   "execution_count": 158,
   "metadata": {},
   "outputs": [],
   "source": [
    "# Sigmoid function for predictions\n",
    "def sigmoid(z):\n",
    "    return 1 / (1 + np.exp(-z))\n",
    "\n",
    "# Logistic Regression Model\n",
    "class LogisticRegression:\n",
    "    def __init__(self, num_features):\n",
    "        # Initialize weights and bias to zeros\n",
    "        self.w = np.zeros(num_features)\n",
    "        self.b = 0\n",
    "    \n",
    "    def predict_proba(self, X):\n",
    "        # Calculate linear combination z = w * X + b\n",
    "        z = np.dot(X, self.w) + self.b\n",
    "        # Apply sigmoid to get probability\n",
    "        return sigmoid(z)\n",
    "    \n",
    "    def predict(self, X):\n",
    "        # Convert probabilities to binary predictions (0 or 1)\n",
    "        proba = self.predict_proba(X)\n",
    "        return [1 if p >= 0.5 else 0 for p in proba]\n",
    "    \n",
    "    def Loss(self, X,gt,epsilon):\n",
    "        y_hat = np.clip(self.predict_proba(X),epsilon,1-epsilon)\n",
    "        # print(\"I am printing \" + str( np.multiply(np.ones(len(gt)) - gt,np.log(np.ones(len(y))-y)) ) )\n",
    "        return [-np.mean(gt*np.log(y_hat) + (1-gt)*np.log(1-y_hat))]\n",
    "    \n",
    "    def updateweights(self, X, gt, y_hat, alpha):\n",
    "        self.w = self.w - alpha * 1/len(y_hat) * np.dot(X.T,y_hat-gt)\n",
    "        print(self.w)\n",
    "        self.b = self.b -  alpha * np.mean(y_hat - gt)\n",
    "\n",
    "    def evaluate(self,X,gt):\n",
    "        y_pred = self.predict(X)\n",
    "        return np.mean(y_pred==gt)*100\n",
    "\n",
    "        "
   ]
  },
  {
   "cell_type": "code",
   "execution_count": 159,
   "metadata": {},
   "outputs": [],
   "source": [
    "# Sample dataset with features and binary labels\n",
    "X_train = np.array([\n",
    "    [2, 3],\n",
    "    [1, -1],\n",
    "    [0, 2],\n",
    "    [-1, -2],\n",
    "    [3, 1]\n",
    "])\n",
    "\n",
    "y_train = np.array([1, 0, 1, 0, 1])  # Ground truth labels"
   ]
  },
  {
   "cell_type": "code",
   "execution_count": 160,
   "metadata": {},
   "outputs": [
    {
     "name": "stdout",
     "output_type": "stream",
     "text": [
      "[0.5 0.9]\n",
      "[0.48910602 1.10535548]\n",
      "[0.47635791 1.26302294]\n",
      "[0.46544612 1.39187424]\n",
      "[0.45692351 1.50116547]\n",
      "[0.45058675 1.59623542]\n",
      "[0.4460741  1.68047128]\n",
      "[0.44303324 1.75616508]\n",
      "[0.4411641 1.8249429]\n",
      "[0.44022324 1.88800151]\n",
      "[0.4400169 1.946248 ]\n",
      "[0.44039198 2.00038676]\n",
      "[0.44122765 2.05097605]\n",
      "[0.44242833 2.09846603]\n",
      "[0.44391823 2.14322515]\n",
      "[0.44563695 2.18555894]\n",
      "[0.44753621 2.22572366]\n",
      "[0.44957722 2.26393643]\n",
      "[0.45172871 2.3003829 ]\n",
      "[0.45396536 2.33522305]\n",
      "[0.45626661 2.36859579]\n",
      "[0.45861574 2.40062253]\n",
      "[0.46099906 2.43141   ]\n",
      "[0.46340542 2.46105258]\n",
      "[0.46582563 2.48963411]\n",
      "[0.46825221 2.51722944]\n",
      "[0.47067898 2.54390568]\n",
      "[0.4731009  2.56972324]\n",
      "[0.47551383 2.59473668]\n",
      "[0.4779144  2.61899547]\n",
      "[0.48029986 2.6425446 ]\n",
      "[0.48266798 2.66542512]\n",
      "[0.48501697 2.68767457]\n",
      "[0.48734539 2.70932737]\n",
      "[0.48965212 2.7304152 ]\n",
      "[0.49193629 2.75096724]\n",
      "[0.49419722 2.77101044]\n",
      "[0.49643445 2.79056976]\n",
      "[0.49864763 2.80966834]\n",
      "[0.50083656 2.82832768]\n",
      "[0.50300112 2.84656782]\n",
      "[0.50514131 2.86440742]\n",
      "[0.50725718 2.88186392]\n",
      "[0.50934884 2.89895365]\n",
      "[0.51141646 2.91569188]\n",
      "[0.51346025 2.93209295]\n",
      "[0.51548045 2.94817036]\n",
      "[0.51747734 2.96393676]\n",
      "[0.5194512  2.97940411]\n",
      "[0.52140234 2.99458367]\n"
     ]
    },
    {
     "data": {
      "text/plain": [
       "np.float64(100.0)"
      ]
     },
     "execution_count": 160,
     "metadata": {},
     "output_type": "execute_result"
    }
   ],
   "source": [
    "# Initialize the model for 2 features\n",
    "model = LogisticRegression(num_features=2)\n",
    "L = []\n",
    "\n",
    "for i in range(50):\n",
    "    y_pred = model.predict_proba(X_train)\n",
    "    Loss =  model.Loss(X_train,y_train,epsilon = 1e-15)\n",
    "    L.append(Loss)\n",
    "    model.updateweights(X_train,y_train,y_pred,1)\n",
    "\n",
    "model.evaluate(X_train,y_train)\n"
   ]
  },
  {
   "cell_type": "code",
   "execution_count": 161,
   "metadata": {},
   "outputs": [],
   "source": [
    "import matplotlib.pyplot as plt"
   ]
  },
  {
   "cell_type": "code",
   "execution_count": 162,
   "metadata": {},
   "outputs": [],
   "source": [
    "x = np.linspace(1,len(L))"
   ]
  },
  {
   "cell_type": "code",
   "execution_count": 163,
   "metadata": {},
   "outputs": [
    {
     "data": {
      "text/plain": [
       "[<matplotlib.lines.Line2D at 0x10a83d7c0>]"
      ]
     },
     "execution_count": 163,
     "metadata": {},
     "output_type": "execute_result"
    },
    {
     "data": {
      "image/png": "[encoded data removed]",
      "text/plain": [
       "<Figure size 640x480 with 1 Axes>"
      ]
     },
     "metadata": {},
     "output_type": "display_data"
    }
   ],
   "source": [
    "plt.plot(x,L)"
   ]
  },
  {
   "cell_type": "code",
   "execution_count": 164,
   "metadata": {},
   "outputs": [],
   "source": [
    "X_test = np.array([\n",
    "    [2, 3],\n",
    "    [1, -1],\n",
    "    [0, 2],\n",
    "    [-1, -2],\n",
    "    [3, 1],\n",
    "    [-1, 3],\n",
    "    [2, -1]\n",
    "])\n",
    "\n",
    "y_test = np.array([1, 0, 1, 0, 1, 0, 0])  # Ground truth labels\n"
   ]
  },
  {
   "cell_type": "code",
   "execution_count": 165,
   "metadata": {},
   "outputs": [
    {
     "data": {
      "text/plain": [
       "np.float64(85.71428571428571)"
      ]
     },
     "execution_count": 165,
     "metadata": {},
     "output_type": "execute_result"
    }
   ],
   "source": [
    "model.evaluate(X_test,y_test)"
   ]
  },
  {
   "cell_type": "code",
   "execution_count": 166,
   "metadata": {},
   "outputs": [],
   "source": [
    "# Expanded Test Set\n",
    "X_test_large = np.array([\n",
    "    [2, 3],\n",
    "    [1, -1],\n",
    "    [0, 2],\n",
    "    [-1, -2],\n",
    "    [3, 1],\n",
    "    [-1, 3],\n",
    "    [2, -1],\n",
    "    [4, 2],\n",
    "    [-3, -3],\n",
    "    [3, -2],\n",
    "    [2, 2],\n",
    "    [0, 1],\n",
    "    [-2, 1],\n",
    "    [1, 3],\n",
    "    [-1, -3]\n",
    "])\n",
    "\n",
    "y_test_large = np.array([1, 0, 1, 0, 1, 0, 0, 1, 0, 0, 1, 1, 0, 1, 0])"
   ]
  },
  {
   "cell_type": "code",
   "execution_count": 167,
   "metadata": {},
   "outputs": [
    {
     "data": {
      "text/plain": [
       "np.float64(86.66666666666667)"
      ]
     },
     "execution_count": 167,
     "metadata": {},
     "output_type": "execute_result"
    }
   ],
   "source": [
    "model.evaluate(X_test_large,y_test_large)"
   ]
  },
  {
   "cell_type": "code",
   "execution_count": 185,
   "metadata": {},
   "outputs": [],
   "source": [
    "# Sigmoid function for predictions\n",
    "def sigmoid(z):\n",
    "    return 1 / (1 + np.exp(-z))\n",
    "\n",
    "# Logistic Regression Model\n",
    "class LogisticRegression_L2:\n",
    "    def __init__(self, num_features):\n",
    "        # Initialize weights and bias to zeros\n",
    "        self.w = np.zeros(num_features)\n",
    "        self.b = 0\n",
    "    \n",
    "    def predict_proba(self, X):\n",
    "        # Calculate linear combination z = w * X + b\n",
    "        z = np.dot(X, self.w) + self.b\n",
    "        # Apply sigmoid to get probability\n",
    "        return sigmoid(z)\n",
    "    \n",
    "    def predict(self, X):\n",
    "        # Convert probabilities to binary predictions (0 or 1)\n",
    "        proba = self.predict_proba(X)\n",
    "        return [1 if p >= 0.5 else 0 for p in proba]\n",
    "    \n",
    "    def Loss(self, X,gt,epsilon,lam):\n",
    "        y_hat = np.clip(self.predict_proba(X),epsilon,1-epsilon)\n",
    "        # print(\"I am printing \" + str( np.multiply(np.ones(len(gt)) - gt,np.log(np.ones(len(y))-y)) ) )\n",
    "        return [-1 * (np.mean(gt*np.log(y_hat) + (1-gt)*np.log(1-y_hat)) + lam/(2*len(y_hat)) * np.dot(self.w,self.w))]\n",
    "    \n",
    "    def updateweights(self, X, gt, y_hat, alpha,lam):\n",
    "        self.w = self.w - alpha * (1/len(y_hat) * np.dot(X.T,y_hat-gt) + lam/len(y_hat)*self.w)\n",
    "        print(self.w)\n",
    "        self.b = self.b -  alpha * np.mean(y_hat - gt)\n",
    "\n",
    "    def evaluate(self,X,gt):\n",
    "        y_pred = self.predict(X)\n",
    "        return np.mean(y_pred==gt)*100"
   ]
  },
  {
   "cell_type": "code",
   "execution_count": 186,
   "metadata": {},
   "outputs": [],
   "source": [
    "# Initialize the model for 2 features\n",
    "model2 = LogisticRegression_L2(num_features=2)\n",
    "L = []"
   ]
  },
  {
   "cell_type": "code",
   "execution_count": 190,
   "metadata": {},
   "outputs": [
    {
     "name": "stdout",
     "output_type": "stream",
     "text": [
      "[0.39101607 1.72683384]\n",
      "[0.3452754  1.45393986]\n",
      "[0.3313475  1.27097351]\n",
      "[0.33616581 1.15714585]\n",
      "[0.34693819 1.08977378]\n",
      "[0.35654698 1.05056839]\n",
      "[0.36284502 1.02763593]\n",
      "[0.36603    1.01401967]\n",
      "[0.36694276 1.00578326]\n",
      "[0.36638993 1.00069752]\n",
      "[0.36497243 0.99748444]\n",
      "[0.36309256 0.99540079]\n",
      "[0.36100407 0.99400864]\n",
      "[0.35886041 0.99304697]\n",
      "[0.35675081 0.99235856]\n",
      "[0.35472468 0.99184765]\n",
      "[0.35280724 0.99145524]\n",
      "[0.35100935 0.99114444]\n",
      "[0.34933342 0.99089178]\n",
      "[0.34777713 0.99068199]\n",
      "[0.34633554 0.9905049 ]\n",
      "[0.34500241 0.99035349]\n",
      "[0.34377097 0.99022278]\n",
      "[0.34263434 0.99010911]\n",
      "[0.34158578 0.9900097 ]\n",
      "[0.34061885 0.98992239]\n",
      "[0.33972744 0.98984541]\n",
      "[0.33890584 0.98977736]\n",
      "[0.33814871 0.98971705]\n",
      "[0.33745108 0.98966348]\n",
      "[0.33680836 0.9896158 ]\n",
      "[0.33621627 0.98957328]\n",
      "[0.33567088 0.98953531]\n",
      "[0.33516854 0.98950134]\n",
      "[0.33470588 0.9894709 ]\n",
      "[0.33427979 0.98944358]\n",
      "[0.3338874  0.98941904]\n",
      "[0.33352606 0.98939695]\n",
      "[0.33319334 0.98937705]\n",
      "[0.33288696 0.98935909]\n",
      "[0.33260487 0.98934287]\n",
      "[0.33234514 0.98932821]\n",
      "[0.33210601 0.98931493]\n",
      "[0.33188585 0.98930289]\n",
      "[0.33168315 0.98929197]\n",
      "[0.33149655 0.98928206]\n",
      "[0.33132476 0.98927305]\n",
      "[0.33116661 0.98926485]\n",
      "[0.33102103 0.98925739]\n",
      "[0.33088701 0.98925059]\n"
     ]
    },
    {
     "data": {
      "text/plain": [
       "np.float64(100.0)"
      ]
     },
     "execution_count": 190,
     "metadata": {},
     "output_type": "execute_result"
    }
   ],
   "source": [
    "for i in range(50):\n",
    "    y_pred = model2.predict_proba(X_train)\n",
    "    Loss =  model2.Loss(X_train,y_train,epsilon = 1e-15, lam=1)\n",
    "    L.append(Loss)\n",
    "    model2.updateweights(X_train,y_train,y_pred,1,lam=1)\n",
    "\n",
    "model2.evaluate(X_train,y_train)"
   ]
  },
  {
   "cell_type": "code",
   "execution_count": 191,
   "metadata": {},
   "outputs": [],
   "source": [
    "X_test_large = np.array([\n",
    "    [2, 3],\n",
    "    [1, -1],\n",
    "    [0, 2],\n",
    "    [-1, -2],\n",
    "    [3, 1],\n",
    "    [-1, 3],\n",
    "    [2, -1],\n",
    "    [4, 2],\n",
    "    [-3, -3],\n",
    "    [3, -2],\n",
    "    [2, 2],\n",
    "    [0, 1],\n",
    "    [-2, 1],\n",
    "    [1, 3],\n",
    "    [-1, -3]\n",
    "])\n",
    "\n",
    "y_test_large = np.array([1, 0, 1, 0, 1, 0, 0, 1, 0, 0, 1, 1, 0, 1, 0])"
   ]
  },
  {
   "cell_type": "code",
   "execution_count": 192,
   "metadata": {},
   "outputs": [
    {
     "data": {
      "text/plain": [
       "np.float64(86.66666666666667)"
      ]
     },
     "execution_count": 192,
     "metadata": {},
     "output_type": "execute_result"
    }
   ],
   "source": [
    "model2.evaluate(X_test_large,y_test_large)"
   ]
  },
  {
   "cell_type": "code",
   "execution_count": null,
   "metadata": {},
   "outputs": [],
   "source": []
  }
 ],
 "metadata": {
  "kernelspec": {
   "display_name": "Python 3",
   "language": "python",
   "name": "python3"
  },
  "language_info": {
   "codemirror_mode": {
    "name": "ipython",
    "version": 3
   },
   "file_extension": ".py",
   "mimetype": "text/x-python",
   "name": "python",
   "nbconvert_exporter": "python",
   "pygments_lexer": "ipython3",
   "version": "3.12.2"
  }
 },
 "nbformat": 4,
 "nbformat_minor": 2
}
