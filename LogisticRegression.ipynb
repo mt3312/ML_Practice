{
 "cells": [
  {
   "cell_type": "markdown",
   "metadata": {},
   "source": [
    "### Logistic Regression Practice\n",
    "I ran a code to brush upon my ML skills. <br>\n",
    "Python Version: 3.12.2 "
   ]
  },
  {
   "cell_type": "code",
   "execution_count": 57,
   "metadata": {},
   "outputs": [],
   "source": [
    "# everything that needs to be imported to run the code. \n",
    "import numpy as np\n",
    "import matplotlib.pyplot as plt"
   ]
  },
  {
   "cell_type": "code",
   "execution_count": 28,
   "metadata": {},
   "outputs": [],
   "source": [
    "# Logistic Regression Model\n",
    "class LogisticRegression:\n",
    "    def __init__(self, num_features):\n",
    "        # Initialize weights and bias to zeros\n",
    "        self.w = np.zeros(num_features)\n",
    "        self.b = 0\n",
    "    \n",
    "    def predict_proba(self, X):\n",
    "        # Calculate linear combination z = w * X + b\n",
    "        print(np.dot(X,self.w))\n",
    "        z = np.dot(X, self.w) + self.b\n",
    "        # Apply sigmoid to get probability\n",
    "        return sigmoid(z)\n",
    "    \n",
    "    def predict(self, X):\n",
    "        # Convert probabilities to binary predictions (0 or 1)\n",
    "        proba = self.predict_proba(X)\n",
    "        return [1 if p >= 0.5 else 0 for p in proba]\n",
    "    \n",
    "    def Loss(self, X,gt,epsilon):\n",
    "        y_hat = np.clip(self.predict_proba(X),epsilon,1-epsilon)\n",
    "        return [-np.mean(gt*np.log(y_hat) + (1-gt)*np.log(1-y_hat))]\n",
    "    \n",
    "    def updateweights(self, X, gt, y_hat, alpha):\n",
    "        self.w = self.w - alpha * 1/len(y_hat) * np.dot(X.T,y_hat-gt)\n",
    "        self.b = self.b -  alpha * np.mean(y_hat - gt)\n",
    "\n",
    "    def evaluate(self,X,gt):\n",
    "        y_pred = self.predict(X)\n",
    "        return np.mean(y_pred==gt)*100\n",
    "\n",
    "# Sigmoid function for predictions\n",
    "def sigmoid(z):\n",
    "    return 1 / (1 + np.exp(-z))"
   ]
  },
  {
   "cell_type": "code",
   "execution_count": 50,
   "metadata": {},
   "outputs": [],
   "source": [
    "# Sample dataset with features and binary labels\n",
    "X_train = np.array([\n",
    "    [2, 3],\n",
    "    [1, -1],\n",
    "    [0, 2],\n",
    "    [-1, -2],\n",
    "    [3, 1]\n",
    "])\n",
    "\n",
    "y_train = np.array([1, 0, 1, 0, 1])  # Ground truth labels\n",
    "\n",
    "#sample test data\n",
    "X_test = np.array([\n",
    "    [2, 3],\n",
    "    [1, -1],\n",
    "    [0, 2],\n",
    "    [-1, -2],\n",
    "    [3, 1],\n",
    "    [-1, 3],\n",
    "    [2, -1]\n",
    "])\n",
    "\n",
    "y_test = np.array([1, 0, 1, 0, 1, 0, 0])  # Ground truth labels\n",
    "\n",
    "# Using a larger test dataset\n",
    "X_test_large = np.array([\n",
    "    [2, 3],\n",
    "    [1, -1],\n",
    "    [0, 2],\n",
    "    [-1, -2],\n",
    "    [3, 1],\n",
    "    [-1, 3],\n",
    "    [2, -1],\n",
    "    [4, 2],\n",
    "    [-3, -3],\n",
    "    [3, -2],\n",
    "    [2, 2],\n",
    "    [0, 1],\n",
    "    [-2, 1],\n",
    "    [1, 3],\n",
    "    [-1, -3]\n",
    "])\n",
    "\n",
    "y_test_large = np.array([1, 0, 1, 0, 1, 0, 0, 1, 0, 0, 1, 1, 0, 1, 0])"
   ]
  },
  {
   "cell_type": "code",
   "execution_count": 51,
   "metadata": {},
   "outputs": [
    {
     "name": "stdout",
     "output_type": "stream",
     "text": [
      "Model acuracy on training data is 100.00%\n"
     ]
    }
   ],
   "source": [
    "# Initialize the model for 2 features\n",
    "model = LogisticRegression(num_features=2)\n",
    "L = []\n",
    "\n",
    "for i in range(50):\n",
    "    y_pred = model.predict_proba(X_train)\n",
    "    Loss =  model.Loss(X_train,y_train,epsilon = 1e-15)\n",
    "    L.append(Loss)\n",
    "    model.updateweights(X_train,y_train,y_pred,1)\n",
    "\n",
    "accuracy = model.evaluate(X_train,y_train)\n",
    "\n",
    "print(\"Model acuracy on training data is {acc:.2f}%\".format(acc=accuracy))\n",
    "\n"
   ]
  },
  {
   "cell_type": "code",
   "execution_count": 52,
   "metadata": {},
   "outputs": [
    {
     "data": {
      "text/plain": [
       "[<matplotlib.lines.Line2D at 0x10d8b0b90>]"
      ]
     },
     "execution_count": 52,
     "metadata": {},
     "output_type": "execute_result"
    },
    {
     "data": {
      "image/png": "[encoded data removed]",
      "text/plain": [
       "<Figure size 640x480 with 1 Axes>"
      ]
     },
     "metadata": {},
     "output_type": "display_data"
    }
   ],
   "source": [
    "# Observing loss over iteractions\n",
    "x = np.linspace(1,len(L))\n",
    "plt.plot(x,L)"
   ]
  },
  {
   "cell_type": "code",
   "execution_count": 53,
   "metadata": {},
   "outputs": [
    {
     "name": "stdout",
     "output_type": "stream",
     "text": [
      "Model acuracy on test data is 85.71%\n"
     ]
    }
   ],
   "source": [
    "test_acc = model.evaluate(X_test,y_test)\n",
    "print(\"Model acuracy on test data is {acc:.2f}%\".format(acc=test_acc))\n"
   ]
  },
  {
   "cell_type": "code",
   "execution_count": 54,
   "metadata": {},
   "outputs": [
    {
     "name": "stdout",
     "output_type": "stream",
     "text": [
      "Model acuracy on larger test data is 86.67%\n"
     ]
    }
   ],
   "source": [
    "large_test_acc = model.evaluate(X_test_large,y_test_large)\n",
    "print(\"Model acuracy on larger test data is {acc:.2f}%\".format(acc=large_test_acc))"
   ]
  },
  {
   "cell_type": "code",
   "execution_count": 55,
   "metadata": {},
   "outputs": [],
   "source": [
    "# Logistic Regression Model with L2 Regularization\n",
    "class LogisticRegression_L2:\n",
    "    def __init__(self, num_features):\n",
    "        # Initialize weights and bias to zeros\n",
    "        self.w = np.zeros(num_features)\n",
    "        self.b = 0\n",
    "    \n",
    "    def predict_proba(self, X):\n",
    "        # Calculate linear combination z = w * X + b\n",
    "        z = np.dot(X, self.w) + self.b\n",
    "        # Apply sigmoid to get probability\n",
    "        return sigmoid(z)\n",
    "    \n",
    "    def predict(self, X):\n",
    "        # Convert probabilities to binary predictions (0 or 1)\n",
    "        proba = self.predict_proba(X)\n",
    "        return [1 if p >= 0.5 else 0 for p in proba]\n",
    "    \n",
    "    def Loss(self, X,gt,epsilon,lam):\n",
    "        y_hat = np.clip(self.predict_proba(X),epsilon,1-epsilon)\n",
    "        return [-1 * (np.mean(gt*np.log(y_hat) + (1-gt)*np.log(1-y_hat)) + lam/(2*len(y_hat)) * np.dot(self.w,self.w))]\n",
    "    \n",
    "    def updateweights(self, X, gt, y_hat, alpha,lam):\n",
    "        self.w = self.w - alpha * (1/len(y_hat) * np.dot(X.T,y_hat-gt) + lam/len(y_hat)*self.w)\n",
    "        self.b = self.b -  alpha * np.mean(y_hat - gt)\n",
    "\n",
    "    #get accuracy percentage\n",
    "    def evaluate(self,X,gt):\n",
    "        y_pred = self.predict(X)\n",
    "        return np.mean(y_pred==gt)*100"
   ]
  },
  {
   "cell_type": "code",
   "execution_count": 56,
   "metadata": {},
   "outputs": [
    {
     "name": "stdout",
     "output_type": "stream",
     "text": [
      "Model (with L2) acuracy on training data is 100.00%\n",
      "Model (with L2) acuracy on large test data is 86.67%\n"
     ]
    }
   ],
   "source": [
    "# Initialize the model with L2 regulaization for 2 features\n",
    "model2 = LogisticRegression_L2(num_features=2)\n",
    "for i in range(50):\n",
    "    y_pred = model2.predict_proba(X_train)\n",
    "    Loss =  model2.Loss(X_train,y_train,epsilon = 1e-15, lam=1)\n",
    "    L.append(Loss)\n",
    "    model2.updateweights(X_train,y_train,y_pred,1,lam=1)\n",
    "\n",
    "model2_acc = model2.evaluate(X_train,y_train)\n",
    "print(\"Model (with L2) acuracy on training data is {acc:.2f}%\".format(acc=model2_acc))\n",
    "\n",
    "model2_acc_test = model2.evaluate(X_test_large,y_test_large)\n",
    "print(\"Model (with L2) acuracy on large test data is {acc:.2f}%\".format(acc=model2_acc_test))"
   ]
  },
  {
   "cell_type": "code",
   "execution_count": null,
   "metadata": {},
   "outputs": [],
   "source": []
  }
 ],
 "metadata": {
  "kernelspec": {
   "display_name": "Python 3",
   "language": "python",
   "name": "python3"
  },
  "language_info": {
   "codemirror_mode": {
    "name": "ipython",
    "version": 3
   },
   "file_extension": ".py",
   "mimetype": "text/x-python",
   "name": "python",
   "nbconvert_exporter": "python",
   "pygments_lexer": "ipython3",
   "version": "3.12.2"
  }
 },
 "nbformat": 4,
 "nbformat_minor": 2
}
