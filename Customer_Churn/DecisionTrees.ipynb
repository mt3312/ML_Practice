{
 "cells": [
  {
   "cell_type": "code",
   "execution_count": 5,
   "metadata": {},
   "outputs": [],
   "source": [
    "import kagglehub\n",
    "import pandas as pd\n",
    "import sklearn\n",
    "import numpy as np\n",
    "import matplotlib.pyplot as plt\n",
    "from sklearn.preprocessing import LabelEncoder\n"
   ]
  },
  {
   "cell_type": "code",
   "execution_count": 4,
   "metadata": {},
   "outputs": [],
   "source": [
    "#The code below was used to download the dataset which was then moved to Customer Churn forlder.\n",
    "# I also downloaded rainbow csv that made the visualization of csv a lot better\n",
    "\n",
    "\n",
    "# path = kagglehub.dataset_download(\"blastchar/telco-customer-churn\")\n",
    "# print(\"Path to dataset files:\", path)\n"
   ]
  },
  {
   "cell_type": "code",
   "execution_count": 6,
   "metadata": {},
   "outputs": [],
   "source": [
    "data = pd.read_csv(\"WA_Fn-UseC_-Telco-Customer-Churn.csv\")\n",
    "new_data = data.drop(columns=\"customerID\", axis=1, inplace=False) \n",
    "\n",
    "dataOHE = pd.get_dummies(new_data,drop_first=True,dtype=int)\n",
    "\n",
    "data_LE = data.copy()\n",
    "categorical_cols = data.select_dtypes(include=['object']).columns  # Categorical columns\n",
    "label_encoder = LabelEncoder()\n",
    "for col in categorical_cols:\n",
    "    data_LE[col] = label_encoder.fit_transform(data_LE[col])\n",
    "\n",
    "from sklearn.model_selection import train_test_split\n",
    "X_train_OHE, X_test_OHE, y_train_OHE, y_test_OHE = train_test_split(dataOHE.drop(columns='Churn_Yes'), dataOHE['Churn_Yes'], test_size=0.2)\n",
    "X_train_LE, X_test_LE, y_train_LE, y_test_LE = train_test_split(data_LE.drop(columns='Churn'), data_LE['Churn'], test_size=0.2)"
   ]
  },
  {
   "cell_type": "code",
   "execution_count": null,
   "metadata": {},
   "outputs": [],
   "source": [
    "class TreeNode:\n",
    "    def __init__(self, feature=None, threshold=None, left=None, right=None, *, value=None):\n",
    "        self.feature = feature      # Feature index to split on\n",
    "        self.threshold = threshold  # Threshold value for the feature\n",
    "        self.left = left            # Left child node\n",
    "        self.right = right          # Right child node\n",
    "        self.value = value          # Class label for leaf nodes\n",
    "    "
   ]
  },
  {
   "cell_type": "code",
   "execution_count": null,
   "metadata": {},
   "outputs": [],
   "source": [
    "class DecisionTreeClassifier:\n",
    "    def __init__(self,max_depth,min_samples_split,root):\n",
    "        self.max_depth = max_depth\n",
    "        self.min_sample_split = min_samples_split\n",
    "        self.root = None\n",
    "\n",
    "    def fit(self,X,y):\n",
    "        self.root = self._grow_tree(X,y)\n",
    "    \n",
    "    def _grow_tree(self,X,y,depth=0):\n",
    "        if(depth >= self.max_depth or len(y)<self.min_samples_split):\n",
    "            most_common_label = np.bincount(y).argmax()\n",
    "            return TreeNode(value=most_common_label)\n",
    "\n",
    "    def _best_split(self,X,y):\n",
    "        self.best_feature = None\n",
    "        self.best_threshold = None\n",
    "        self.impurity_score = 1\n",
    "\n",
    "        for col in X.shape[1]:\n",
    "\n",
    "\n",
    "    \n"
   ]
  },
  {
   "cell_type": "code",
   "execution_count": null,
   "metadata": {},
   "outputs": [],
   "source": []
  }
 ],
 "metadata": {
  "kernelspec": {
   "display_name": "Python 3",
   "language": "python",
   "name": "python3"
  },
  "language_info": {
   "codemirror_mode": {
    "name": "ipython",
    "version": 3
   },
   "file_extension": ".py",
   "mimetype": "text/x-python",
   "name": "python",
   "nbconvert_exporter": "python",
   "pygments_lexer": "ipython3",
   "version": "3.12.2"
  }
 },
 "nbformat": 4,
 "nbformat_minor": 2
}
